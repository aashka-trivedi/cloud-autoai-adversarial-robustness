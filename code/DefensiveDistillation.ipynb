{
  "nbformat": 4,
  "nbformat_minor": 0,
  "metadata": {
    "colab": {
      "name": "DefensiveDistillation.ipynb",
      "provenance": [],
      "collapsed_sections": []
    },
    "kernelspec": {
      "name": "python3",
      "display_name": "Python 3"
    },
    "language_info": {
      "name": "python"
    },
    "accelerator": "GPU"
  },
  "cells": [
    {
      "cell_type": "markdown",
      "metadata": {
        "id": "6JXRUv9hVHtc"
      },
      "source": [
        "# Defensive Distillation of Cloud AutoAI Models\n",
        "\n",
        "In this notebook, we defensively distil the cloud AutoAI models trained on MNIST to a LeNet-type model, in the hopes of achieving adversarial robustness. For training the distilled model, we use the softmax predictions of the GCP AutoML model and the IBMCloud AutoAI model on 80% of the MNIST test data. We then test the resulting distilled model on our adversarial examples, along with the remainder of the test set.\n",
        "\n",
        "Reference code:\n",
        " https://github.com/hiaghosh/Defensive-Distillation/blob/master/models/mnist/mnist.py\n",
        " https://keras.io/examples/vision/knowledge_distillation/"
      ]
    },
    {
      "cell_type": "code",
      "metadata": {
        "id": "TdRZB1VDU4uZ"
      },
      "source": [
        "import keras\n",
        "from keras.models import Sequential\n",
        "from tensorflow.keras import optimizers\n",
        "from keras.layers import Dense, Dropout, Flatten, Lambda\n",
        "from keras.layers import Conv1D, MaxPooling1D\n",
        "\n",
        "import tensorflow as tf\n",
        "import pandas as pd\n",
        "import numpy as np"
      ],
      "execution_count": 29,
      "outputs": []
    },
    {
      "cell_type": "markdown",
      "metadata": {
        "id": "nNMj3-5sXhOQ"
      },
      "source": [
        "## Distilling from GCP Model"
      ]
    },
    {
      "cell_type": "code",
      "metadata": {
        "colab": {
          "base_uri": "https://localhost:8080/",
          "height": 256
        },
        "id": "jIoSEJAGXTTZ",
        "outputId": "1d0d0e63-98a4-42ed-f9ff-93587e6cf9ee"
      },
      "source": [
        "train = pd.read_csv('gcp_distil_train.csv', sep=',', index_col=None)\n",
        "train.head()"
      ],
      "execution_count": 2,
      "outputs": [
        {
          "output_type": "execute_result",
          "data": {
            "text/html": [
              "<div>\n",
              "<style scoped>\n",
              "    .dataframe tbody tr th:only-of-type {\n",
              "        vertical-align: middle;\n",
              "    }\n",
              "\n",
              "    .dataframe tbody tr th {\n",
              "        vertical-align: top;\n",
              "    }\n",
              "\n",
              "    .dataframe thead th {\n",
              "        text-align: right;\n",
              "    }\n",
              "</style>\n",
              "<table border=\"1\" class=\"dataframe\">\n",
              "  <thead>\n",
              "    <tr style=\"text-align: right;\">\n",
              "      <th></th>\n",
              "      <th>label</th>\n",
              "      <th>1</th>\n",
              "      <th>2</th>\n",
              "      <th>3</th>\n",
              "      <th>4</th>\n",
              "      <th>5</th>\n",
              "      <th>6</th>\n",
              "      <th>7</th>\n",
              "      <th>8</th>\n",
              "      <th>9</th>\n",
              "      <th>10</th>\n",
              "      <th>11</th>\n",
              "      <th>12</th>\n",
              "      <th>13</th>\n",
              "      <th>14</th>\n",
              "      <th>15</th>\n",
              "      <th>16</th>\n",
              "      <th>17</th>\n",
              "      <th>18</th>\n",
              "      <th>19</th>\n",
              "      <th>20</th>\n",
              "      <th>21</th>\n",
              "      <th>22</th>\n",
              "      <th>23</th>\n",
              "      <th>24</th>\n",
              "      <th>25</th>\n",
              "      <th>26</th>\n",
              "      <th>27</th>\n",
              "      <th>28</th>\n",
              "      <th>29</th>\n",
              "      <th>30</th>\n",
              "      <th>31</th>\n",
              "      <th>32</th>\n",
              "      <th>33</th>\n",
              "      <th>34</th>\n",
              "      <th>35</th>\n",
              "      <th>36</th>\n",
              "      <th>37</th>\n",
              "      <th>38</th>\n",
              "      <th>39</th>\n",
              "      <th>...</th>\n",
              "      <th>757</th>\n",
              "      <th>758</th>\n",
              "      <th>759</th>\n",
              "      <th>760</th>\n",
              "      <th>761</th>\n",
              "      <th>762</th>\n",
              "      <th>763</th>\n",
              "      <th>764</th>\n",
              "      <th>765</th>\n",
              "      <th>766</th>\n",
              "      <th>767</th>\n",
              "      <th>768</th>\n",
              "      <th>769</th>\n",
              "      <th>770</th>\n",
              "      <th>771</th>\n",
              "      <th>772</th>\n",
              "      <th>773</th>\n",
              "      <th>774</th>\n",
              "      <th>775</th>\n",
              "      <th>776</th>\n",
              "      <th>777</th>\n",
              "      <th>778</th>\n",
              "      <th>779</th>\n",
              "      <th>780</th>\n",
              "      <th>781</th>\n",
              "      <th>782</th>\n",
              "      <th>783</th>\n",
              "      <th>784</th>\n",
              "      <th>label_1_score</th>\n",
              "      <th>label_7_score</th>\n",
              "      <th>label_3_score</th>\n",
              "      <th>label_0_score</th>\n",
              "      <th>label_2_score</th>\n",
              "      <th>label_6_score</th>\n",
              "      <th>label_4_score</th>\n",
              "      <th>label_8_score</th>\n",
              "      <th>label_9_score</th>\n",
              "      <th>label_5_score</th>\n",
              "      <th>Predicted_Label_String</th>\n",
              "      <th>Predicted_label</th>\n",
              "    </tr>\n",
              "  </thead>\n",
              "  <tbody>\n",
              "    <tr>\n",
              "      <th>0</th>\n",
              "      <td>6</td>\n",
              "      <td>0.0</td>\n",
              "      <td>0.0</td>\n",
              "      <td>0.0</td>\n",
              "      <td>0.0</td>\n",
              "      <td>0.0</td>\n",
              "      <td>0.0</td>\n",
              "      <td>0.0</td>\n",
              "      <td>0.0</td>\n",
              "      <td>0.0</td>\n",
              "      <td>0.0</td>\n",
              "      <td>0.0</td>\n",
              "      <td>0.0</td>\n",
              "      <td>0.0</td>\n",
              "      <td>0.0</td>\n",
              "      <td>0.0</td>\n",
              "      <td>0.0</td>\n",
              "      <td>0.0</td>\n",
              "      <td>0.0</td>\n",
              "      <td>0.0</td>\n",
              "      <td>0.0</td>\n",
              "      <td>0.0</td>\n",
              "      <td>0.0</td>\n",
              "      <td>0.0</td>\n",
              "      <td>0.0</td>\n",
              "      <td>0.0</td>\n",
              "      <td>0.0</td>\n",
              "      <td>0.0</td>\n",
              "      <td>0.0</td>\n",
              "      <td>0.0</td>\n",
              "      <td>0.0</td>\n",
              "      <td>0.0</td>\n",
              "      <td>0.0</td>\n",
              "      <td>0.0</td>\n",
              "      <td>0.0</td>\n",
              "      <td>0.0</td>\n",
              "      <td>0.0</td>\n",
              "      <td>0.0</td>\n",
              "      <td>0.0</td>\n",
              "      <td>0.0</td>\n",
              "      <td>...</td>\n",
              "      <td>0.0</td>\n",
              "      <td>0.0</td>\n",
              "      <td>0.0</td>\n",
              "      <td>0.0</td>\n",
              "      <td>0.0</td>\n",
              "      <td>0.0</td>\n",
              "      <td>0.0</td>\n",
              "      <td>0.0</td>\n",
              "      <td>0.0</td>\n",
              "      <td>0.0</td>\n",
              "      <td>0.0</td>\n",
              "      <td>0.0</td>\n",
              "      <td>0.0</td>\n",
              "      <td>0.0</td>\n",
              "      <td>0.0</td>\n",
              "      <td>0.0</td>\n",
              "      <td>0.0</td>\n",
              "      <td>0.0</td>\n",
              "      <td>0.0</td>\n",
              "      <td>0.0</td>\n",
              "      <td>0.0</td>\n",
              "      <td>0.0</td>\n",
              "      <td>0.0</td>\n",
              "      <td>0.0</td>\n",
              "      <td>0.0</td>\n",
              "      <td>0.0</td>\n",
              "      <td>0.0</td>\n",
              "      <td>0.0</td>\n",
              "      <td>0.000042</td>\n",
              "      <td>0.000059</td>\n",
              "      <td>0.000076</td>\n",
              "      <td>0.000058</td>\n",
              "      <td>0.000180</td>\n",
              "      <td>0.998739</td>\n",
              "      <td>0.000177</td>\n",
              "      <td>0.000276</td>\n",
              "      <td>0.000128</td>\n",
              "      <td>0.000266</td>\n",
              "      <td>label_6_score</td>\n",
              "      <td>6</td>\n",
              "    </tr>\n",
              "    <tr>\n",
              "      <th>1</th>\n",
              "      <td>9</td>\n",
              "      <td>0.0</td>\n",
              "      <td>0.0</td>\n",
              "      <td>0.0</td>\n",
              "      <td>0.0</td>\n",
              "      <td>0.0</td>\n",
              "      <td>0.0</td>\n",
              "      <td>0.0</td>\n",
              "      <td>0.0</td>\n",
              "      <td>0.0</td>\n",
              "      <td>0.0</td>\n",
              "      <td>0.0</td>\n",
              "      <td>0.0</td>\n",
              "      <td>0.0</td>\n",
              "      <td>0.0</td>\n",
              "      <td>0.0</td>\n",
              "      <td>0.0</td>\n",
              "      <td>0.0</td>\n",
              "      <td>0.0</td>\n",
              "      <td>0.0</td>\n",
              "      <td>0.0</td>\n",
              "      <td>0.0</td>\n",
              "      <td>0.0</td>\n",
              "      <td>0.0</td>\n",
              "      <td>0.0</td>\n",
              "      <td>0.0</td>\n",
              "      <td>0.0</td>\n",
              "      <td>0.0</td>\n",
              "      <td>0.0</td>\n",
              "      <td>0.0</td>\n",
              "      <td>0.0</td>\n",
              "      <td>0.0</td>\n",
              "      <td>0.0</td>\n",
              "      <td>0.0</td>\n",
              "      <td>0.0</td>\n",
              "      <td>0.0</td>\n",
              "      <td>0.0</td>\n",
              "      <td>0.0</td>\n",
              "      <td>0.0</td>\n",
              "      <td>0.0</td>\n",
              "      <td>...</td>\n",
              "      <td>0.0</td>\n",
              "      <td>0.0</td>\n",
              "      <td>0.0</td>\n",
              "      <td>0.0</td>\n",
              "      <td>0.0</td>\n",
              "      <td>0.0</td>\n",
              "      <td>0.0</td>\n",
              "      <td>0.0</td>\n",
              "      <td>0.0</td>\n",
              "      <td>0.0</td>\n",
              "      <td>0.0</td>\n",
              "      <td>0.0</td>\n",
              "      <td>0.0</td>\n",
              "      <td>0.0</td>\n",
              "      <td>0.0</td>\n",
              "      <td>0.0</td>\n",
              "      <td>0.0</td>\n",
              "      <td>0.0</td>\n",
              "      <td>0.0</td>\n",
              "      <td>0.0</td>\n",
              "      <td>0.0</td>\n",
              "      <td>0.0</td>\n",
              "      <td>0.0</td>\n",
              "      <td>0.0</td>\n",
              "      <td>0.0</td>\n",
              "      <td>0.0</td>\n",
              "      <td>0.0</td>\n",
              "      <td>0.0</td>\n",
              "      <td>0.010941</td>\n",
              "      <td>0.005737</td>\n",
              "      <td>0.020158</td>\n",
              "      <td>0.000552</td>\n",
              "      <td>0.001144</td>\n",
              "      <td>0.000482</td>\n",
              "      <td>0.024135</td>\n",
              "      <td>0.027317</td>\n",
              "      <td>0.896730</td>\n",
              "      <td>0.012805</td>\n",
              "      <td>label_9_score</td>\n",
              "      <td>9</td>\n",
              "    </tr>\n",
              "    <tr>\n",
              "      <th>2</th>\n",
              "      <td>3</td>\n",
              "      <td>0.0</td>\n",
              "      <td>0.0</td>\n",
              "      <td>0.0</td>\n",
              "      <td>0.0</td>\n",
              "      <td>0.0</td>\n",
              "      <td>0.0</td>\n",
              "      <td>0.0</td>\n",
              "      <td>0.0</td>\n",
              "      <td>0.0</td>\n",
              "      <td>0.0</td>\n",
              "      <td>0.0</td>\n",
              "      <td>0.0</td>\n",
              "      <td>0.0</td>\n",
              "      <td>0.0</td>\n",
              "      <td>0.0</td>\n",
              "      <td>0.0</td>\n",
              "      <td>0.0</td>\n",
              "      <td>0.0</td>\n",
              "      <td>0.0</td>\n",
              "      <td>0.0</td>\n",
              "      <td>0.0</td>\n",
              "      <td>0.0</td>\n",
              "      <td>0.0</td>\n",
              "      <td>0.0</td>\n",
              "      <td>0.0</td>\n",
              "      <td>0.0</td>\n",
              "      <td>0.0</td>\n",
              "      <td>0.0</td>\n",
              "      <td>0.0</td>\n",
              "      <td>0.0</td>\n",
              "      <td>0.0</td>\n",
              "      <td>0.0</td>\n",
              "      <td>0.0</td>\n",
              "      <td>0.0</td>\n",
              "      <td>0.0</td>\n",
              "      <td>0.0</td>\n",
              "      <td>0.0</td>\n",
              "      <td>0.0</td>\n",
              "      <td>0.0</td>\n",
              "      <td>...</td>\n",
              "      <td>0.0</td>\n",
              "      <td>0.0</td>\n",
              "      <td>0.0</td>\n",
              "      <td>0.0</td>\n",
              "      <td>0.0</td>\n",
              "      <td>0.0</td>\n",
              "      <td>0.0</td>\n",
              "      <td>0.0</td>\n",
              "      <td>0.0</td>\n",
              "      <td>0.0</td>\n",
              "      <td>0.0</td>\n",
              "      <td>0.0</td>\n",
              "      <td>0.0</td>\n",
              "      <td>0.0</td>\n",
              "      <td>0.0</td>\n",
              "      <td>0.0</td>\n",
              "      <td>0.0</td>\n",
              "      <td>0.0</td>\n",
              "      <td>0.0</td>\n",
              "      <td>0.0</td>\n",
              "      <td>0.0</td>\n",
              "      <td>0.0</td>\n",
              "      <td>0.0</td>\n",
              "      <td>0.0</td>\n",
              "      <td>0.0</td>\n",
              "      <td>0.0</td>\n",
              "      <td>0.0</td>\n",
              "      <td>0.0</td>\n",
              "      <td>0.004420</td>\n",
              "      <td>0.008049</td>\n",
              "      <td>0.879280</td>\n",
              "      <td>0.000828</td>\n",
              "      <td>0.001056</td>\n",
              "      <td>0.000939</td>\n",
              "      <td>0.001454</td>\n",
              "      <td>0.006095</td>\n",
              "      <td>0.019253</td>\n",
              "      <td>0.078626</td>\n",
              "      <td>label_3_score</td>\n",
              "      <td>3</td>\n",
              "    </tr>\n",
              "    <tr>\n",
              "      <th>3</th>\n",
              "      <td>9</td>\n",
              "      <td>0.0</td>\n",
              "      <td>0.0</td>\n",
              "      <td>0.0</td>\n",
              "      <td>0.0</td>\n",
              "      <td>0.0</td>\n",
              "      <td>0.0</td>\n",
              "      <td>0.0</td>\n",
              "      <td>0.0</td>\n",
              "      <td>0.0</td>\n",
              "      <td>0.0</td>\n",
              "      <td>0.0</td>\n",
              "      <td>0.0</td>\n",
              "      <td>0.0</td>\n",
              "      <td>0.0</td>\n",
              "      <td>0.0</td>\n",
              "      <td>0.0</td>\n",
              "      <td>0.0</td>\n",
              "      <td>0.0</td>\n",
              "      <td>0.0</td>\n",
              "      <td>0.0</td>\n",
              "      <td>0.0</td>\n",
              "      <td>0.0</td>\n",
              "      <td>0.0</td>\n",
              "      <td>0.0</td>\n",
              "      <td>0.0</td>\n",
              "      <td>0.0</td>\n",
              "      <td>0.0</td>\n",
              "      <td>0.0</td>\n",
              "      <td>0.0</td>\n",
              "      <td>0.0</td>\n",
              "      <td>0.0</td>\n",
              "      <td>0.0</td>\n",
              "      <td>0.0</td>\n",
              "      <td>0.0</td>\n",
              "      <td>0.0</td>\n",
              "      <td>0.0</td>\n",
              "      <td>0.0</td>\n",
              "      <td>0.0</td>\n",
              "      <td>0.0</td>\n",
              "      <td>...</td>\n",
              "      <td>0.0</td>\n",
              "      <td>0.0</td>\n",
              "      <td>0.0</td>\n",
              "      <td>0.0</td>\n",
              "      <td>0.0</td>\n",
              "      <td>0.0</td>\n",
              "      <td>0.0</td>\n",
              "      <td>0.0</td>\n",
              "      <td>0.0</td>\n",
              "      <td>0.0</td>\n",
              "      <td>0.0</td>\n",
              "      <td>0.0</td>\n",
              "      <td>0.0</td>\n",
              "      <td>0.0</td>\n",
              "      <td>0.0</td>\n",
              "      <td>0.0</td>\n",
              "      <td>0.0</td>\n",
              "      <td>0.0</td>\n",
              "      <td>0.0</td>\n",
              "      <td>0.0</td>\n",
              "      <td>0.0</td>\n",
              "      <td>0.0</td>\n",
              "      <td>0.0</td>\n",
              "      <td>0.0</td>\n",
              "      <td>0.0</td>\n",
              "      <td>0.0</td>\n",
              "      <td>0.0</td>\n",
              "      <td>0.0</td>\n",
              "      <td>0.000139</td>\n",
              "      <td>0.001419</td>\n",
              "      <td>0.000451</td>\n",
              "      <td>0.000067</td>\n",
              "      <td>0.000091</td>\n",
              "      <td>0.000066</td>\n",
              "      <td>0.003475</td>\n",
              "      <td>0.000814</td>\n",
              "      <td>0.992655</td>\n",
              "      <td>0.000824</td>\n",
              "      <td>label_9_score</td>\n",
              "      <td>9</td>\n",
              "    </tr>\n",
              "    <tr>\n",
              "      <th>4</th>\n",
              "      <td>6</td>\n",
              "      <td>0.0</td>\n",
              "      <td>0.0</td>\n",
              "      <td>0.0</td>\n",
              "      <td>0.0</td>\n",
              "      <td>0.0</td>\n",
              "      <td>0.0</td>\n",
              "      <td>0.0</td>\n",
              "      <td>0.0</td>\n",
              "      <td>0.0</td>\n",
              "      <td>0.0</td>\n",
              "      <td>0.0</td>\n",
              "      <td>0.0</td>\n",
              "      <td>0.0</td>\n",
              "      <td>0.0</td>\n",
              "      <td>0.0</td>\n",
              "      <td>0.0</td>\n",
              "      <td>0.0</td>\n",
              "      <td>0.0</td>\n",
              "      <td>0.0</td>\n",
              "      <td>0.0</td>\n",
              "      <td>0.0</td>\n",
              "      <td>0.0</td>\n",
              "      <td>0.0</td>\n",
              "      <td>0.0</td>\n",
              "      <td>0.0</td>\n",
              "      <td>0.0</td>\n",
              "      <td>0.0</td>\n",
              "      <td>0.0</td>\n",
              "      <td>0.0</td>\n",
              "      <td>0.0</td>\n",
              "      <td>0.0</td>\n",
              "      <td>0.0</td>\n",
              "      <td>0.0</td>\n",
              "      <td>0.0</td>\n",
              "      <td>0.0</td>\n",
              "      <td>0.0</td>\n",
              "      <td>0.0</td>\n",
              "      <td>0.0</td>\n",
              "      <td>0.0</td>\n",
              "      <td>...</td>\n",
              "      <td>0.0</td>\n",
              "      <td>0.0</td>\n",
              "      <td>0.0</td>\n",
              "      <td>0.0</td>\n",
              "      <td>0.0</td>\n",
              "      <td>0.0</td>\n",
              "      <td>0.0</td>\n",
              "      <td>0.0</td>\n",
              "      <td>0.0</td>\n",
              "      <td>0.0</td>\n",
              "      <td>0.0</td>\n",
              "      <td>0.0</td>\n",
              "      <td>0.0</td>\n",
              "      <td>0.0</td>\n",
              "      <td>0.0</td>\n",
              "      <td>0.0</td>\n",
              "      <td>0.0</td>\n",
              "      <td>0.0</td>\n",
              "      <td>0.0</td>\n",
              "      <td>0.0</td>\n",
              "      <td>0.0</td>\n",
              "      <td>0.0</td>\n",
              "      <td>0.0</td>\n",
              "      <td>0.0</td>\n",
              "      <td>0.0</td>\n",
              "      <td>0.0</td>\n",
              "      <td>0.0</td>\n",
              "      <td>0.0</td>\n",
              "      <td>0.000465</td>\n",
              "      <td>0.000677</td>\n",
              "      <td>0.001602</td>\n",
              "      <td>0.042420</td>\n",
              "      <td>0.005500</td>\n",
              "      <td>0.942992</td>\n",
              "      <td>0.001347</td>\n",
              "      <td>0.001039</td>\n",
              "      <td>0.000787</td>\n",
              "      <td>0.003172</td>\n",
              "      <td>label_6_score</td>\n",
              "      <td>6</td>\n",
              "    </tr>\n",
              "  </tbody>\n",
              "</table>\n",
              "<p>5 rows × 797 columns</p>\n",
              "</div>"
            ],
            "text/plain": [
              "   label    1    2  ...  label_5_score  Predicted_Label_String  Predicted_label\n",
              "0      6  0.0  0.0  ...       0.000266           label_6_score                6\n",
              "1      9  0.0  0.0  ...       0.012805           label_9_score                9\n",
              "2      3  0.0  0.0  ...       0.078626           label_3_score                3\n",
              "3      9  0.0  0.0  ...       0.000824           label_9_score                9\n",
              "4      6  0.0  0.0  ...       0.003172           label_6_score                6\n",
              "\n",
              "[5 rows x 797 columns]"
            ]
          },
          "metadata": {},
          "execution_count": 2
        }
      ]
    },
    {
      "cell_type": "code",
      "metadata": {
        "colab": {
          "base_uri": "https://localhost:8080/"
        },
        "id": "cSxqDvgWX_F3",
        "outputId": "eb69ca40-9d13-4fbf-cd55-b33c67d55585"
      },
      "source": [
        "train.columns"
      ],
      "execution_count": 3,
      "outputs": [
        {
          "output_type": "execute_result",
          "data": {
            "text/plain": [
              "Index(['label', '1', '2', '3', '4', '5', '6', '7', '8', '9',\n",
              "       ...\n",
              "       'label_3_score', 'label_0_score', 'label_2_score', 'label_6_score',\n",
              "       'label_4_score', 'label_8_score', 'label_9_score', 'label_5_score',\n",
              "       'Predicted_Label_String', 'Predicted_label'],\n",
              "      dtype='object', length=797)"
            ]
          },
          "metadata": {},
          "execution_count": 3
        }
      ]
    },
    {
      "cell_type": "code",
      "metadata": {
        "id": "-sTZYd3_X9Gk"
      },
      "source": [
        "#Prepare Training Data\n",
        "train_x_cols = train.columns[1:785]\n",
        "train_y_cols = ['label_0_score','label_1_score','label_2_score','label_3_score','label_4_score', 'label_5_score', 'label_6_score','label_7_score','label_8_score','label_9_score']\n",
        "\n",
        "x_train = train[train_x_cols]\n",
        "y_train = train[train_y_cols]"
      ],
      "execution_count": 15,
      "outputs": []
    },
    {
      "cell_type": "code",
      "metadata": {
        "id": "EEcdEP1nXvJi"
      },
      "source": [
        "x_train = x_train.values\n",
        "y_train = y_train.values"
      ],
      "execution_count": 16,
      "outputs": []
    },
    {
      "cell_type": "code",
      "metadata": {
        "id": "hHkoIE4-ZHMC"
      },
      "source": [
        "#create Distilled Model\n",
        "def createModel():\n",
        "  model = Sequential()\n",
        "  model.add((Conv1D(32, kernel_size=3, activation='relu', input_shape=(784,1))))\n",
        "  model.add((Conv1D(32, kernel_size=1, activation='relu')))\n",
        "  model.add(MaxPooling1D(pool_size=2))\n",
        "  model.add((Conv1D(64, kernel_size=3, activation='relu')))\n",
        "  model.add((Conv1D(64, kernel_size=3, activation='relu')))\n",
        "  model.add(MaxPooling1D(pool_size=2))\n",
        "  model.add(Flatten())\n",
        "  model.add(Dense(200, activation='relu'))\n",
        "  model.add(Dropout(0.5))\n",
        "  model.add(Dense(200, activation='relu'))\n",
        "  model.add(Dense(10))\n",
        "  return model"
      ],
      "execution_count": 27,
      "outputs": []
    },
    {
      "cell_type": "code",
      "metadata": {
        "colab": {
          "base_uri": "https://localhost:8080/"
        },
        "id": "QQnQEhoMZ8Fu",
        "outputId": "a82c9dae-ce32-4e12-f3c2-922f3ebebaf1"
      },
      "source": [
        "# train model\n",
        "def temperature_cross_entropy(gt, pred):\n",
        "    loss = tf.nn.softmax_cross_entropy_with_logits(labels=gt, logits=pred)\n",
        "    return loss\n",
        "\n",
        "model = createModel()\n",
        "sgd = optimizers.SGD(lr=0.1, decay=1e-6, momentum=0.9, nesterov=True)\n",
        "model.compile(loss=temperature_cross_entropy, optimizer=sgd, metrics=['accuracy'])\n",
        "history = model.fit(x_train, y_train, batch_size=128, epochs=50, verbose=1)"
      ],
      "execution_count": 30,
      "outputs": [
        {
          "output_type": "stream",
          "name": "stderr",
          "text": [
            "/usr/local/lib/python3.7/dist-packages/keras/optimizer_v2/gradient_descent.py:102: UserWarning: The `lr` argument is deprecated, use `learning_rate` instead.\n",
            "  super(SGD, self).__init__(name, **kwargs)\n"
          ]
        },
        {
          "output_type": "stream",
          "name": "stdout",
          "text": [
            "Epoch 1/50\n",
            "63/63 [==============================] - 12s 34ms/step - loss: 2.2677 - accuracy: 0.1692\n",
            "Epoch 2/50\n",
            "63/63 [==============================] - 2s 32ms/step - loss: 0.7764 - accuracy: 0.7602\n",
            "Epoch 3/50\n",
            "63/63 [==============================] - 2s 31ms/step - loss: 0.3587 - accuracy: 0.9252\n",
            "Epoch 4/50\n",
            "63/63 [==============================] - 2s 32ms/step - loss: 0.3057 - accuracy: 0.9503\n",
            "Epoch 5/50\n",
            "63/63 [==============================] - 2s 31ms/step - loss: 0.2824 - accuracy: 0.9613\n",
            "Epoch 6/50\n",
            "63/63 [==============================] - 2s 31ms/step - loss: 0.2658 - accuracy: 0.9655\n",
            "Epoch 7/50\n",
            "63/63 [==============================] - 2s 31ms/step - loss: 0.2621 - accuracy: 0.9684\n",
            "Epoch 8/50\n",
            "63/63 [==============================] - 2s 31ms/step - loss: 0.2529 - accuracy: 0.9728\n",
            "Epoch 9/50\n",
            "63/63 [==============================] - 2s 32ms/step - loss: 0.2473 - accuracy: 0.9739\n",
            "Epoch 10/50\n",
            "63/63 [==============================] - 2s 32ms/step - loss: 0.2407 - accuracy: 0.9781\n",
            "Epoch 11/50\n",
            "63/63 [==============================] - 2s 32ms/step - loss: 0.2390 - accuracy: 0.9791\n",
            "Epoch 12/50\n",
            "63/63 [==============================] - 2s 31ms/step - loss: 0.2352 - accuracy: 0.9785\n",
            "Epoch 13/50\n",
            "63/63 [==============================] - 2s 31ms/step - loss: 0.2319 - accuracy: 0.9808\n",
            "Epoch 14/50\n",
            "63/63 [==============================] - 2s 31ms/step - loss: 0.2331 - accuracy: 0.9803\n",
            "Epoch 15/50\n",
            "63/63 [==============================] - 2s 31ms/step - loss: 0.2278 - accuracy: 0.9821\n",
            "Epoch 16/50\n",
            "63/63 [==============================] - 2s 31ms/step - loss: 0.2262 - accuracy: 0.9800\n",
            "Epoch 17/50\n",
            "63/63 [==============================] - 2s 31ms/step - loss: 0.2258 - accuracy: 0.9810\n",
            "Epoch 18/50\n",
            "63/63 [==============================] - 2s 31ms/step - loss: 0.2232 - accuracy: 0.9836\n",
            "Epoch 19/50\n",
            "63/63 [==============================] - 2s 31ms/step - loss: 0.2231 - accuracy: 0.9820\n",
            "Epoch 20/50\n",
            "63/63 [==============================] - 2s 31ms/step - loss: 0.2205 - accuracy: 0.9840\n",
            "Epoch 21/50\n",
            "63/63 [==============================] - 2s 31ms/step - loss: 0.2192 - accuracy: 0.9836\n",
            "Epoch 22/50\n",
            "63/63 [==============================] - 2s 31ms/step - loss: 0.2180 - accuracy: 0.9854\n",
            "Epoch 23/50\n",
            "63/63 [==============================] - 2s 31ms/step - loss: 0.2180 - accuracy: 0.9851\n",
            "Epoch 24/50\n",
            "63/63 [==============================] - 2s 31ms/step - loss: 0.2163 - accuracy: 0.9861\n",
            "Epoch 25/50\n",
            "63/63 [==============================] - 2s 31ms/step - loss: 0.2150 - accuracy: 0.9856\n",
            "Epoch 26/50\n",
            "63/63 [==============================] - 2s 31ms/step - loss: 0.2131 - accuracy: 0.9877\n",
            "Epoch 27/50\n",
            "63/63 [==============================] - 2s 32ms/step - loss: 0.2140 - accuracy: 0.9864\n",
            "Epoch 28/50\n",
            "63/63 [==============================] - 2s 32ms/step - loss: 0.2105 - accuracy: 0.9869\n",
            "Epoch 29/50\n",
            "63/63 [==============================] - 2s 31ms/step - loss: 0.2120 - accuracy: 0.9868\n",
            "Epoch 30/50\n",
            "63/63 [==============================] - 2s 31ms/step - loss: 0.2108 - accuracy: 0.9887\n",
            "Epoch 31/50\n",
            "63/63 [==============================] - 2s 31ms/step - loss: 0.2092 - accuracy: 0.9883\n",
            "Epoch 32/50\n",
            "63/63 [==============================] - 2s 32ms/step - loss: 0.2089 - accuracy: 0.9883\n",
            "Epoch 33/50\n",
            "63/63 [==============================] - 2s 32ms/step - loss: 0.2093 - accuracy: 0.9860\n",
            "Epoch 34/50\n",
            "63/63 [==============================] - 2s 32ms/step - loss: 0.2088 - accuracy: 0.9890\n",
            "Epoch 35/50\n",
            "63/63 [==============================] - 2s 33ms/step - loss: 0.2073 - accuracy: 0.9875\n",
            "Epoch 36/50\n",
            "63/63 [==============================] - 2s 32ms/step - loss: 0.2073 - accuracy: 0.9881\n",
            "Epoch 37/50\n",
            "63/63 [==============================] - 2s 31ms/step - loss: 0.2068 - accuracy: 0.9896\n",
            "Epoch 38/50\n",
            "63/63 [==============================] - 2s 31ms/step - loss: 0.2065 - accuracy: 0.9886\n",
            "Epoch 39/50\n",
            "63/63 [==============================] - 2s 32ms/step - loss: 0.2065 - accuracy: 0.9880\n",
            "Epoch 40/50\n",
            "63/63 [==============================] - 2s 31ms/step - loss: 0.2056 - accuracy: 0.9891\n",
            "Epoch 41/50\n",
            "63/63 [==============================] - 2s 32ms/step - loss: 0.2057 - accuracy: 0.9876\n",
            "Epoch 42/50\n",
            "63/63 [==============================] - 2s 32ms/step - loss: 0.2060 - accuracy: 0.9874\n",
            "Epoch 43/50\n",
            "63/63 [==============================] - 2s 32ms/step - loss: 0.2037 - accuracy: 0.9898\n",
            "Epoch 44/50\n",
            "63/63 [==============================] - 2s 32ms/step - loss: 0.2038 - accuracy: 0.9883\n",
            "Epoch 45/50\n",
            "63/63 [==============================] - 2s 31ms/step - loss: 0.2036 - accuracy: 0.9906\n",
            "Epoch 46/50\n",
            "63/63 [==============================] - 2s 31ms/step - loss: 0.2050 - accuracy: 0.9886\n",
            "Epoch 47/50\n",
            "63/63 [==============================] - 2s 32ms/step - loss: 0.2024 - accuracy: 0.9890\n",
            "Epoch 48/50\n",
            "63/63 [==============================] - 2s 31ms/step - loss: 0.2020 - accuracy: 0.9900\n",
            "Epoch 49/50\n",
            "63/63 [==============================] - 2s 32ms/step - loss: 0.2032 - accuracy: 0.9879\n",
            "Epoch 50/50\n",
            "63/63 [==============================] - 2s 31ms/step - loss: 0.2012 - accuracy: 0.9899\n"
          ]
        }
      ]
    },
    {
      "cell_type": "markdown",
      "metadata": {
        "id": "pf9OzWoec_s2"
      },
      "source": [
        "## Evaluate Distilled Model"
      ]
    },
    {
      "cell_type": "code",
      "metadata": {
        "id": "uSaH1D-iaqDE"
      },
      "source": [
        "#prepare testing data - On test set\n",
        "test = pd.read_csv('gcp_distil_test.csv', sep=',', index_col=None)\n",
        "\n",
        "test_x_cols = test.columns[1:785]\n",
        "#test_y_cols = ['Predicted_label']\n",
        "test_y_cols = ['label_0_score','label_1_score','label_2_score','label_3_score','label_4_score', 'label_5_score', 'label_6_score','label_7_score','label_8_score','label_9_score']\n",
        "\n",
        "\n",
        "x_test = test[test_x_cols]\n",
        "y_test = test[test_y_cols]\n",
        "y_label = test['Predicted_label']"
      ],
      "execution_count": 49,
      "outputs": []
    },
    {
      "cell_type": "code",
      "metadata": {
        "colab": {
          "base_uri": "https://localhost:8080/"
        },
        "id": "3v0qvy8bcqbL",
        "outputId": "c965421b-1d2a-4824-8c83-cf662f8e9d7f"
      },
      "source": [
        "score = model.evaluate(x_test, y_test, verbose=0)\n",
        "print(f'Distilled Accuracy (On Test Set):\\t{score[1]*100}')"
      ],
      "execution_count": 36,
      "outputs": [
        {
          "output_type": "stream",
          "name": "stdout",
          "text": [
            "Distilled Accuracy (On Test Set):\t97.79005646705627\n"
          ]
        }
      ]
    },
    {
      "cell_type": "code",
      "metadata": {
        "id": "LgaIpJCGe2vS"
      },
      "source": [
        "ad10 = pd.read_csv('adv_examples_10.csv', sep=',', index_col=None)\n",
        "ad15 = pd.read_csv('adv_examples_15.csv', sep=',', index_col=None)\n",
        "ad20 = pd.read_csv('adv_examples_20.csv', sep=',', index_col=None)\n",
        "ad25 = pd.read_csv('adv_examples_25.csv', sep=',', index_col=None)\n",
        "ad30 = pd.read_csv('adv_examples_30.csv', sep=',', index_col=None)"
      ],
      "execution_count": 51,
      "outputs": []
    },
    {
      "cell_type": "code",
      "metadata": {
        "id": "Wa53G8T7d7hi"
      },
      "source": [
        "#Evaluate Adversarial Robustness of Distilled model\n",
        "def adversarialAccuracy(model, adv_df, eps):\n",
        "  y_label = adv_df['true_label']\n",
        "  x_adv = adv_df.iloc[:,2:]\n",
        "  logit_predictions = model.predict(x_adv)\n",
        "  y_pred = np.array(list(map(np.argmax, logit_predictions)))\n",
        "  correct = y_label == y_pred\n",
        "  print(\"Accuracy (Epsilon = {}) : {}\".format(eps,np.count_nonzero(correct)*100/correct.size))\n",
        "  return"
      ],
      "execution_count": 64,
      "outputs": []
    },
    {
      "cell_type": "code",
      "metadata": {
        "colab": {
          "base_uri": "https://localhost:8080/"
        },
        "id": "tJk0q9ivgf0H",
        "outputId": "c26754cd-f418-45db-f22a-dfec891e699c"
      },
      "source": [
        "adversarialAccuracy(model, ad10, 0.10)\n",
        "adversarialAccuracy(model, ad15, 0.15)\n",
        "adversarialAccuracy(model, ad20, 0.20)\n",
        "adversarialAccuracy(model, ad25, 0.25)\n",
        "adversarialAccuracy(model, ad30, 0.30)"
      ],
      "execution_count": 66,
      "outputs": [
        {
          "output_type": "stream",
          "name": "stdout",
          "text": [
            "Accuracy (Epsilon = 0.1) : 75.6923076923077\n",
            "Accuracy (Epsilon = 0.15) : 75.13404825737265\n",
            "Accuracy (Epsilon = 0.2) : 52.33254674169541\n",
            "Accuracy (Epsilon = 0.25) : 26.5527950310559\n",
            "Accuracy (Epsilon = 0.3) : 18.141147522648474\n"
          ]
        }
      ]
    },
    {
      "cell_type": "markdown",
      "metadata": {
        "id": "0V67HDpIhW9I"
      },
      "source": [
        "## Distilling from IBM Cloud Model"
      ]
    },
    {
      "cell_type": "code",
      "metadata": {
        "colab": {
          "base_uri": "https://localhost:8080/"
        },
        "id": "e7bBk1m8htAy",
        "outputId": "cfebbe63-a264-43b1-9747-70783a34f0cb"
      },
      "source": [
        "train = pd.read_csv('ibm_distil_train.csv', sep=',', index_col=None)"
      ],
      "execution_count": 69,
      "outputs": [
        {
          "output_type": "stream",
          "name": "stdout",
          "text": [
            "\n"
          ]
        }
      ]
    },
    {
      "cell_type": "code",
      "metadata": {
        "colab": {
          "base_uri": "https://localhost:8080/"
        },
        "id": "WQchCazdhtGP",
        "outputId": "111d3e02-4200-4293-f26a-d1e0e9ca716b"
      },
      "source": [
        "#Prepare Training Data\n",
        "train_x_cols = train.columns[1:785]\n",
        "train_y_cols = ['label_0_score','label_1_score','label_2_score','label_3_score','label_4_score', 'label_5_score', 'label_6_score','label_7_score','label_8_score','label_9_score']\n",
        "\n",
        "x_train = train[train_x_cols]\n",
        "y_train = train[train_y_cols]\n",
        "x_train = x_train.values\n",
        "y_train = y_train.values"
      ],
      "execution_count": 70,
      "outputs": [
        {
          "output_type": "stream",
          "name": "stdout",
          "text": [
            "\n"
          ]
        }
      ]
    },
    {
      "cell_type": "code",
      "metadata": {
        "id": "8IYi8h8ShjIS"
      },
      "source": [
        "#create Distilled Model\n",
        "def createModel():\n",
        "  model = Sequential()\n",
        "  model.add((Conv1D(32, kernel_size=3, activation='relu', input_shape=(784,1))))\n",
        "  model.add((Conv1D(32, kernel_size=1, activation='relu')))\n",
        "  model.add(MaxPooling1D(pool_size=2))\n",
        "  model.add((Conv1D(64, kernel_size=3, activation='relu')))\n",
        "  model.add((Conv1D(64, kernel_size=3, activation='relu')))\n",
        "  model.add(MaxPooling1D(pool_size=2))\n",
        "  model.add(Flatten())\n",
        "  model.add(Dense(200, activation='relu'))\n",
        "  model.add(Dropout(0.5))\n",
        "  model.add(Dense(200, activation='relu'))\n",
        "  model.add(Dense(10))\n",
        "  return model"
      ],
      "execution_count": 67,
      "outputs": []
    },
    {
      "cell_type": "code",
      "metadata": {
        "colab": {
          "base_uri": "https://localhost:8080/"
        },
        "id": "4LYfivfWhqPR",
        "outputId": "2d85f093-bb53-49a7-b612-fde4d9926b1d"
      },
      "source": [
        "# train model\n",
        "def temperature_cross_entropy(gt, pred):\n",
        "    loss = tf.nn.softmax_cross_entropy_with_logits(labels=gt, logits=pred)\n",
        "    return loss\n",
        "\n",
        "model = createModel()\n",
        "sgd = optimizers.SGD(lr=0.1, decay=1e-6, momentum=0.9, nesterov=True)\n",
        "model.compile(loss=temperature_cross_entropy, optimizer=sgd, metrics=['accuracy'])\n",
        "history = model.fit(x_train, y_train, batch_size=128, epochs=50, verbose=0)"
      ],
      "execution_count": 71,
      "outputs": [
        {
          "output_type": "stream",
          "name": "stdout",
          "text": [
            "\n"
          ]
        }
      ]
    },
    {
      "cell_type": "markdown",
      "metadata": {
        "id": "vro2v4CLh9Y8"
      },
      "source": [
        "## Evaluate Distilled Model"
      ]
    },
    {
      "cell_type": "code",
      "metadata": {
        "colab": {
          "base_uri": "https://localhost:8080/"
        },
        "id": "S8qUffa-h6i2",
        "outputId": "87c8b4fd-a3d9-4d1a-c8db-4d25a4fde250"
      },
      "source": [
        "#prepare testing data - On test set\n",
        "test = pd.read_csv('gcp_distil_test.csv', sep=',', index_col=None)\n",
        "\n",
        "test_x_cols = test.columns[1:785]\n",
        "#test_y_cols = ['Predicted_label']\n",
        "test_y_cols = ['label_0_score','label_1_score','label_2_score','label_3_score','label_4_score', 'label_5_score', 'label_6_score','label_7_score','label_8_score','label_9_score']\n",
        "\n",
        "\n",
        "x_test = test[test_x_cols]\n",
        "y_test = test[test_y_cols]\n",
        "y_label = test['Predicted_label']"
      ],
      "execution_count": 72,
      "outputs": [
        {
          "output_type": "stream",
          "name": "stdout",
          "text": [
            "\n"
          ]
        }
      ]
    },
    {
      "cell_type": "code",
      "metadata": {
        "colab": {
          "base_uri": "https://localhost:8080/"
        },
        "id": "YDHHHTq2iIRM",
        "outputId": "ff2e99d2-f912-42da-88ac-9350538b8220"
      },
      "source": [
        "score = model.evaluate(x_test, y_test, verbose=0)\n",
        "print(f'Distilled Accuracy (On Test Set):\\t{score[1]*100}')"
      ],
      "execution_count": 74,
      "outputs": [
        {
          "output_type": "stream",
          "name": "stdout",
          "text": [
            "Distilled Accuracy (On Test Set): \t 98.99011256371632\n"
          ]
        }
      ]
    },
    {
      "cell_type": "code",
      "metadata": {
        "id": "QpjErEzgh3VH"
      },
      "source": [
        "ad10 = pd.read_csv('adv_examples_10.csv', sep=',', index_col=None)\n",
        "ad15 = pd.read_csv('adv_examples_15.csv', sep=',', index_col=None)\n",
        "ad20 = pd.read_csv('adv_examples_20.csv', sep=',', index_col=None)\n",
        "ad25 = pd.read_csv('adv_examples_25.csv', sep=',', index_col=None)\n",
        "ad30 = pd.read_csv('adv_examples_30.csv', sep=',', index_col=None)"
      ],
      "execution_count": 75,
      "outputs": []
    },
    {
      "cell_type": "code",
      "metadata": {
        "id": "kMBgUwCRih4D"
      },
      "source": [
        "#Evaluate Adversarial Robustness of Distilled model\n",
        "def adversarialAccuracy(model, adv_df, eps):\n",
        "  y_label = adv_df['true_label']\n",
        "  x_adv = adv_df.iloc[:,2:]\n",
        "  logit_predictions = model.predict(x_adv)\n",
        "  y_pred = np.array(list(map(np.argmax, logit_predictions)))\n",
        "  correct = y_label == y_pred\n",
        "  print(\"Accuracy (Epsilon = {}) : {}\".format(eps,np.count_nonzero(correct)*100/correct.size))\n",
        "  return"
      ],
      "execution_count": 76,
      "outputs": []
    },
    {
      "cell_type": "code",
      "metadata": {
        "colab": {
          "base_uri": "https://localhost:8080/"
        },
        "id": "abn0AD9AmwWF",
        "outputId": "7a9ecd5a-ae27-420f-92aa-f8b0332fc67e"
      },
      "source": [
        "adversarialAccuracy(model, ad10, 0.10)\n",
        "adversarialAccuracy(model, ad15, 0.15)\n",
        "adversarialAccuracy(model, ad20, 0.20)\n",
        "adversarialAccuracy(model, ad25, 0.25)\n",
        "adversarialAccuracy(model, ad30, 0.30)"
      ],
      "execution_count": 83,
      "outputs": [
        {
          "output_type": "stream",
          "name": "stdout",
          "text": [
            "Accuracy (Epsilon = 0.1) : 74.1935739227174\n",
            "Accuracy (Epsilon = 0.15) : 68.6451482271437618\n",
            "Accuracy (Epsilon = 0.2) : 49.98151689462019\n",
            "Accuracy (Epsilon = 0.25) : 20.45129401175791\n",
            "Accuracy (Epsilon = 0.3) : 19.0001471286989701\n"
          ]
        }
      ]
    },
    {
      "cell_type": "code",
      "metadata": {
        "colab": {
          "base_uri": "https://localhost:8080/",
          "height": 513
        },
        "id": "9SfAvMfjjeW5",
        "outputId": "b2eb3ced-30d8-4919-cca8-0ebcc6d46098"
      },
      "source": [
        "# Make Graph\n",
        "import matplotlib.pyplot as plt\n",
        "\n",
        "epsilons = [0,0.10,0.15,0.20,0.25,0.30]\n",
        "ibm_acc = [98.98, 74.193, 68.645, 49.981,20.451,19]\n",
        "gcp_acc = [97.79,75.690,75.134,52.332, 26.552, 18.141]\n",
        "\n",
        "fig = plt.figure(figsize = (10,8))\n",
        "plt.plot(epsilons, ibm_acc, marker='x', label='IBM AutoAI Teacher')\n",
        "plt.plot(epsilons, gcp_acc, marker='x', label='GCP AutoML Teacher')\n",
        "plt.xlabel('Epsilon')\n",
        "plt.ylabel('Accuracy')\n",
        "plt.title('Performance of Distilled Model on Adversarial Examples')\n",
        "plt.legend()\n",
        "plt.savefig('distillation.png')\n",
        "plt.show()\n"
      ],
      "execution_count": 88,
      "outputs": [
        {
          "output_type": "display_data",
          "data": {
            "image/png": "[encoded data removed]",
            "text/plain": [
              "<Figure size 720x576 with 1 Axes>"
            ]
          },
          "metadata": {
            "needs_background": "light"
          }
        }
      ]
    },
    {
      "cell_type": "code",
      "metadata": {
        "colab": {
          "base_uri": "https://localhost:8080/",
          "height": 513
        },
        "id": "z3e09yhkkzhq",
        "outputId": "f210c9ed-b7f7-4d1f-8376-c4014d77309b"
      },
      "source": [
        "# Make Graph\n",
        "import matplotlib.pyplot as plt\n",
        "\n",
        "epsilons = [0,0.10,0.15,0.20,0.25,0.30]\n",
        "ibm_dist_acc = [98.98, 74.193, 68.645, 49.981,20.451,19]\n",
        "gcp_dist_acc = [97.79,75.690,75.134,52.332, 26.552, 18.141]\n",
        "ibm_acc = [99.6, 11.002, 10.489,10.001, 9.441, 8.903]\n",
        "gcp_acc = [98.6,21.806, 18.073, 15.062, 11.290,10.812]\n",
        "\n",
        "fig = plt.figure(figsize = (10,8))\n",
        "plt.plot(epsilons, ibm_dist_acc, marker='x', label='Distilled Model (IBM AutoAI Teacher)')\n",
        "plt.plot(epsilons, gcp_dist_acc, marker='x', label='Distilled Model (GCP AutoML Teacher)')\n",
        "plt.plot(epsilons, ibm_acc, marker='x', label='IBM AutoAI Model')\n",
        "plt.plot(epsilons, gcp_acc, marker='x', label='GCP AutoML Model')\n",
        "plt.xlabel('Epsilon')\n",
        "plt.ylabel('Accuracy')\n",
        "plt.title('Performance of Models on Adversarial Examples (With and Without Distillation)')\n",
        "plt.legend()\n",
        "plt.savefig('adv_robustness.png')\n",
        "plt.show()\n"
      ],
      "execution_count": 89,
      "outputs": [
        {
          "output_type": "display_data",
          "data": {
            "image/png": "[encoded data removed]",
            "text/plain": [
              "<Figure size 720x576 with 1 Axes>"
            ]
          },
          "metadata": {
            "needs_background": "light"
          }
        }
      ]
    },
    {
      "cell_type": "code",
      "metadata": {
        "id": "DsMW6gIOoCul"
      },
      "source": [
        ""
      ],
      "execution_count": null,
      "outputs": []
    }
  ]
}